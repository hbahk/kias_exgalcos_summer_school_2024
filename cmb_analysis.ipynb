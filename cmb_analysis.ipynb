{
 "cells": [
  {
   "cell_type": "code",
   "execution_count": 6,
   "metadata": {},
   "outputs": [],
   "source": [
    "import numpy as np\n",
    "import camb\n",
    "import healpy as help\n",
    "from matplotlib import pyplot as plt\n",
    "\n",
    "fig, axes = plt.subplots(4,1,figsize=(8,12))\n",
    "for pindx,ll in zip(range(4),[\"TT\",\"EE\",\"BB\",\"TE\"]):\n",
    "    ax = axes[pindx]\n",
    "    ax.set_xlabel(\"multipole moment\")\n",
    "    ax.set_ylabel(\"$\\ell(\\ell+1)C_\\ell^{\\\\rm \"+ll+\"}/(2\\pi)$ [$\\mu{\\\\rm K}^2$]\")\n",
    "    \n",
    "# Use the provided planck2018 initial file\n",
    "planck2018pars = camb.read_ini(\"planck_2018.ini\")\n",
    "\n",
    "h0s = np.linspace(50,100,20)\n",
    "for h0 in h0s:\n",
    "    planck2018pars.set_cosmology(H0=h0)\n",
    "    planck2018 = camb.get_results(planck2018pars)\n",
    "\n",
    "    # get the power spectrum\n",
    "    powers = planck2018.get_cmb_power_spectra(planck2018pars,CMB_unit='muK')\n",
    "    aCl_Total = powers['total']\n",
    "    aCl_nolens = powers['unlensed_scalar']\n",
    "\n",
    "    lmax = aCl_Total.shape[0]-1\n",
    "    aL = np.arange(lmax+1)\n",
    "\n",
    "    for pindx,ll in zip(range(4),[\"TT\",\"EE\",\"BB\",\"TE\"]):\n",
    "        ax = axes[pindx]\n",
    "        ax.set_xlim(2,lmax)\n",
    "        ax.plot(aL,aCl_Total[:,pindx],c=\"DarkRed\")"
   ]
  }
 ],
 "metadata": {
  "kernelspec": {
   "display_name": "base",
   "language": "python",
   "name": "python3"
  },
  "language_info": {
   "codemirror_mode": {
    "name": "ipython",
    "version": 3
   },
   "file_extension": ".py",
   "mimetype": "text/x-python",
   "name": "python",
   "nbconvert_exporter": "python",
   "pygments_lexer": "ipython3",
   "version": "3.11.5"
  }
 },
 "nbformat": 4,
 "nbformat_minor": 2
}
